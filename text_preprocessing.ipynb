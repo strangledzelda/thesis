{
  "nbformat": 4,
  "nbformat_minor": 0,
  "metadata": {
    "colab": {
      "name": "text preprocessing.ipynb",
      "private_outputs": true,
      "provenance": [],
      "authorship_tag": "ABX9TyNB7Sx0zYx4rFA+E2AeLIqD",
      "include_colab_link": true
    },
    "kernelspec": {
      "name": "python3",
      "display_name": "Python 3"
    },
    "language_info": {
      "name": "python"
    },
    "accelerator": "GPU"
  },
  "cells": [
    {
      "cell_type": "markdown",
      "metadata": {
        "id": "view-in-github",
        "colab_type": "text"
      },
      "source": [
        "<a href=\"https://colab.research.google.com/github/strangledzelda/thesis/blob/main/text_preprocessing.ipynb\" target=\"_parent\"><img src=\"https://colab.research.google.com/assets/colab-badge.svg\" alt=\"Open In Colab\"/></a>"
      ]
    },
    {
      "cell_type": "code",
      "source": [
        "import numpy as np\n",
        "import pandas as pd\n",
        "\n",
        "url = 'https://raw.githubusercontent.com/strangledzelda/thesis/main/cyberbulling.csv'\n",
        "data = pd.read_csv(url, encoding=\"utf-8\")"
      ],
      "metadata": {
        "id": "X6WjcXOIoUBl"
      },
      "execution_count": null,
      "outputs": []
    },
    {
      "cell_type": "code",
      "source": [
        "sw = pd.read_csv('https://raw.githubusercontent.com/strangledzelda/thesis/main/all_stopwords.csv', encoding=\"utf-8\")\n",
        "stopwords = sw.values.tolist()\n",
        "all_stopwords = []\n",
        "for word in stopwords:\n",
        "    all_stopwords.append(word[0])"
      ],
      "metadata": {
        "id": "EK4VIAPko8vX"
      },
      "execution_count": null,
      "outputs": []
    },
    {
      "cell_type": "code",
      "source": [
        "!pip install pymorphy2\n",
        "!pip install pyaspeller"
      ],
      "metadata": {
        "id": "kb4p3FyzpKPh"
      },
      "execution_count": null,
      "outputs": []
    },
    {
      "cell_type": "code",
      "source": [
        "import re\n",
        "import pymorphy2\n",
        "morph = pymorphy2.MorphAnalyzer()\n",
        "from pyaspeller import YandexSpeller\n",
        "speller = YandexSpeller()"
      ],
      "metadata": {
        "id": "mCVTLiujpGEF"
      },
      "execution_count": null,
      "outputs": []
    },
    {
      "cell_type": "code",
      "source": [
        "def text_preprocessing(text, to_list=False):\n",
        "    \n",
        "    \n",
        "    # уберём все символы кроме кириллицы и пробелов\n",
        "    text = re.sub(r'[^А-Яа-я\\s:]','',text)\n",
        "    \n",
        "    text = re.sub(r'\\n','',text)\n",
        "    \n",
        "    # приведём к нижнему регистру\n",
        "    text = text.lower()\n",
        "    \n",
        "    # убираем слова меньше 3 символов\n",
        "    text = re.sub(r'\\W*\\b\\w{1,2}\\b','',text)\n",
        "    \n",
        "    # удалим повторяющиеся подряд буквы (3 и больше)\n",
        "    text = re.sub(\"(.)\\\\1{2,}\", \"\\\\1\", text)\n",
        "\n",
        "    # сделаем так, чтобы разделение на слова происходило не только через пробелы,\n",
        "    # но и через дефисы\n",
        "    text = re.split(' |-', text)\n",
        "    \n",
        "    # удалим повторяющиеся слова в предложении\n",
        "    text = sorted(set(text), key=text.index)\n",
        "    \n",
        "    # применим лемматизатор, удалим стоп-слова, исправим опечатки\n",
        "    lemlist = ['']\n",
        "    for word in text:\n",
        "        word = speller.spelled(word)\n",
        "        if morph.parse(word)[0].normal_form not in all_stopwords:\n",
        "            lemlist.append(morph.parse(word)[0].normal_form)\n",
        "    \n",
        "    lemlist = lemlist[1:]\n",
        "\n",
        "    # удалим пустые строки из списка \n",
        "    clean_txt = list(filter(None, lemlist))\n",
        "    if to_list:\n",
        "        return clean_txt\n",
        "    else:\n",
        "        return ' '.join(clean_txt)"
      ],
      "metadata": {
        "id": "Go7ouWlFpHWw"
      },
      "execution_count": null,
      "outputs": []
    },
    {
      "cell_type": "code",
      "source": [
        "df1 = data.comment.iloc[:1001]\n",
        "df2 = data.comment.iloc[1001:2001]\n",
        "df3 = data.comment.iloc[2001:3001]\n",
        "df4 = data.comment.iloc[3001:4001]\n",
        "df5 = data.comment.iloc[4001:5001]\n",
        "df6 = data.comment.iloc[5001:6001]\n",
        "df7 = data.comment.iloc[6001:7001]\n",
        "df8 = data.comment.iloc[7001:8001]\n",
        "df9 = data.comment.iloc[8001:9001]\n",
        "df10 = data.comment.iloc[9001:10001]\n",
        "df11 = data.comment.iloc[10001:11001]\n",
        "df12 = data.comment.iloc[11001:12001]\n",
        "df13 = data.comment.iloc[12001:13001]\n",
        "df14 = data.comment.iloc[13001:14411]"
      ],
      "metadata": {
        "id": "elDzbsRIpwLM"
      },
      "execution_count": null,
      "outputs": []
    },
    {
      "cell_type": "code",
      "source": [
        "all_stopwords.append('априори')"
      ],
      "metadata": {
        "id": "HSJg_eKvEkkN"
      },
      "execution_count": null,
      "outputs": []
    },
    {
      "cell_type": "code",
      "source": [
        "%%time\n",
        "df8 = df8.apply(text_preprocessing)"
      ],
      "metadata": {
        "id": "q7A9Q83Pp6Jj"
      },
      "execution_count": null,
      "outputs": []
    },
    {
      "cell_type": "code",
      "source": [
        "from google.colab import files\n",
        "\n",
        "df8.to_csv(r'df8.csv', index=False, encoding='utf-8') \n",
        "files.download(r'df8.csv')"
      ],
      "metadata": {
        "id": "rdxfzBQ1El4a"
      },
      "execution_count": null,
      "outputs": []
    },
    {
      "cell_type": "code",
      "source": [
        "%%time\n",
        "df9 = df9.apply(text_preprocessing)"
      ],
      "metadata": {
        "id": "QrxGN6Pn6k1K"
      },
      "execution_count": null,
      "outputs": []
    },
    {
      "cell_type": "code",
      "source": [
        "from google.colab import files\n",
        "\n",
        "df9.to_csv(r'df9.csv', index=False, encoding='utf-8') \n",
        "files.download(r'df9.csv')"
      ],
      "metadata": {
        "id": "WatuVkSPUcq_"
      },
      "execution_count": null,
      "outputs": []
    },
    {
      "cell_type": "code",
      "source": [
        ""
      ],
      "metadata": {
        "id": "YytgqBaJUfLP"
      },
      "execution_count": null,
      "outputs": []
    }
  ]
}