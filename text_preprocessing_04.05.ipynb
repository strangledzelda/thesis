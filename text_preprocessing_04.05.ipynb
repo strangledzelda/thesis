{
  "nbformat": 4,
  "nbformat_minor": 0,
  "metadata": {
    "colab": {
      "name": "text preprocessing.ipynb",
      "private_outputs": true,
      "provenance": [],
      "authorship_tag": "ABX9TyPvJ9o80wHmM1/tRMFQ91d/",
      "include_colab_link": true
    },
    "kernelspec": {
      "name": "python3",
      "display_name": "Python 3"
    },
    "language_info": {
      "name": "python"
    },
    "accelerator": "GPU"
  },
  "cells": [
    {
      "cell_type": "markdown",
      "metadata": {
        "id": "view-in-github",
        "colab_type": "text"
      },
      "source": [
        "<a href=\"https://colab.research.google.com/github/strangledzelda/thesis/blob/main/text_preprocessing_04.05.ipynb\" target=\"_parent\"><img src=\"https://colab.research.google.com/assets/colab-badge.svg\" alt=\"Open In Colab\"/></a>"
      ]
    },
    {
      "cell_type": "code",
      "source": [
        "!pip install pymorphy2\n",
        "!pip install pyaspeller\n",
        "!pip install pandas"
      ],
      "metadata": {
        "id": "X6WjcXOIoUBl"
      },
      "execution_count": null,
      "outputs": []
    },
    {
      "cell_type": "code",
      "source": [
        "import numpy as np\n",
        "import pandas as pd\n",
        "import re\n",
        "import pymorphy2\n",
        "from pyaspeller import YandexSpeller"
      ],
      "metadata": {
        "id": "UfKTlcT1ExPh"
      },
      "execution_count": null,
      "outputs": []
    },
    {
      "cell_type": "code",
      "source": [
        "url = 'https://raw.githubusercontent.com/strangledzelda/thesis/main/cyberbulling.csv'\n",
        "data = pd.read_csv(url, encoding=\"utf-8\")\n",
        "\n",
        "morph = pymorphy2.MorphAnalyzer()\n",
        "speller = YandexSpeller()"
      ],
      "metadata": {
        "id": "2hOxk2sEEmnO"
      },
      "execution_count": null,
      "outputs": []
    },
    {
      "cell_type": "code",
      "source": [
        "sw = pd.read_csv('https://raw.githubusercontent.com/strangledzelda/thesis/main/all_stopwords.csv', encoding=\"utf-8\")\n",
        "stopwords = sw.values.tolist()\n",
        "all_stopwords = []\n",
        "for word in stopwords:\n",
        "    all_stopwords.append(word[0])"
      ],
      "metadata": {
        "id": "EK4VIAPko8vX"
      },
      "execution_count": null,
      "outputs": []
    },
    {
      "cell_type": "code",
      "source": [
        "def text_preprocessing(text, to_list=False):\n",
        "    \n",
        "    \n",
        "    # уберём все символы кроме кириллицы и пробелов\n",
        "    text = re.sub(r'[^А-Яа-я\\s:]','',text)\n",
        "    \n",
        "    text = re.sub(r'\\n','',text)\n",
        "    \n",
        "    # приведём к нижнему регистру\n",
        "    text = text.lower()\n",
        "    \n",
        "    # убираем слова меньше 3 символов\n",
        "    text = re.sub(r'\\W*\\b\\w{1,2}\\b','',text)\n",
        "    \n",
        "    # удалим повторяющиеся подряд буквы (3 и больше)\n",
        "    text = re.sub(\"(.)\\\\1{2,}\", \"\\\\1\", text)\n",
        "\n",
        "    # сделаем так, чтобы разделение на слова происходило не только через пробелы,\n",
        "    # но и через дефисы\n",
        "    text = re.split(' |-', text)\n",
        "    \n",
        "    # удалим повторяющиеся слова в предложении\n",
        "    text = sorted(set(text), key=text.index)\n",
        "    \n",
        "    # применим лемматизатор, удалим стоп-слова, исправим опечатки\n",
        "    lemlist = ['']\n",
        "    for word in text:\n",
        "        word = speller.spelled(word)\n",
        "        if morph.parse(word)[0].normal_form not in all_stopwords:\n",
        "            lemlist.append(morph.parse(word)[0].normal_form)\n",
        "    \n",
        "    lemlist = lemlist[1:]\n",
        "\n",
        "    # удалим пустые строки из списка \n",
        "    clean_txt = list(filter(None, lemlist))\n",
        "    if to_list:\n",
        "        return clean_txt\n",
        "    else:\n",
        "        return ' '.join(clean_txt)"
      ],
      "metadata": {
        "id": "Go7ouWlFpHWw"
      },
      "execution_count": null,
      "outputs": []
    },
    {
      "cell_type": "code",
      "source": [
        "df12 = data.comment.iloc[11001:12001]\n",
        "df13 = data.comment.iloc[12001:13001]\n",
        "df14 = data.comment.iloc[13001:14411]"
      ],
      "metadata": {
        "id": "elDzbsRIpwLM"
      },
      "execution_count": null,
      "outputs": []
    },
    {
      "cell_type": "code",
      "source": [
        "all_stopwords.append('априори')"
      ],
      "metadata": {
        "id": "HSJg_eKvEkkN"
      },
      "execution_count": null,
      "outputs": []
    },
    {
      "cell_type": "code",
      "source": [
        "%%time\n",
        "df12 = df12.apply(text_preprocessing)"
      ],
      "metadata": {
        "id": "q7A9Q83Pp6Jj"
      },
      "execution_count": null,
      "outputs": []
    },
    {
      "cell_type": "code",
      "source": [
        "from google.colab import files\n",
        "\n",
        "df12.to_csv(r'df12.csv', index=False, encoding='utf-8') \n",
        "files.download(r'df12.csv')"
      ],
      "metadata": {
        "id": "rdxfzBQ1El4a"
      },
      "execution_count": null,
      "outputs": []
    },
    {
      "cell_type": "code",
      "source": [
        "%%time\n",
        "df13 = df13.apply(text_preprocessing)"
      ],
      "metadata": {
        "id": "QrxGN6Pn6k1K"
      },
      "execution_count": null,
      "outputs": []
    },
    {
      "cell_type": "code",
      "source": [
        "df9.to_csv(r'df13.csv', index=False, encoding='utf-8') \n",
        "files.download(r'df13.csv')"
      ],
      "metadata": {
        "id": "WatuVkSPUcq_"
      },
      "execution_count": null,
      "outputs": []
    },
    {
      "cell_type": "code",
      "source": [
        "%%time\n",
        "df14 = df14.apply(text_preprocessing)"
      ],
      "metadata": {
        "id": "YytgqBaJUfLP"
      },
      "execution_count": null,
      "outputs": []
    },
    {
      "cell_type": "code",
      "source": [
        "df14.to_csv(r'df14.csv', index=False, encoding='utf-8') \n",
        "files.download(r'df14.csv')"
      ],
      "metadata": {
        "id": "_3IAu-H_WeJJ"
      },
      "execution_count": null,
      "outputs": []
    }
  ]
}